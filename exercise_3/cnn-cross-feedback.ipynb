{
 "cells": [
  {
   "cell_type": "markdown",
   "id": "fd39e82a-33c2-4965-bd2e-e9fb370dd768",
   "metadata": {},
   "source": [
    "## Exercise 1)"
   ]
  },
  {
   "cell_type": "markdown",
   "id": "0eeec9b4-5c9f-41b9-b51c-5253f9da9fb9",
   "metadata": {},
   "source": [
    "## Imports"
   ]
  },
  {
   "cell_type": "code",
   "execution_count": 1,
   "id": "6dc40f14-c52d-4b1d-95f9-613c34bd4c4b",
   "metadata": {},
   "outputs": [],
   "source": [
    "import numpy as np\n",
    "import matplotlib.pyplot as plt\n",
    "\n",
    "import torch\n",
    "import torch.optim as optim\n",
    "from torch.utils.data import DataLoader\n",
    "\n",
    "import torchvision.datasets as datasets\n",
    "import torchvision.transforms as transforms\n",
    "\n",
    "from torch.nn.functional import conv2d, max_pool2d, cross_entropy\n",
    "\n",
    "import random\n",
    "\n",
    "plt.rc(\"figure\", dpi=100)"
   ]
  },
  {
   "cell_type": "markdown",
   "id": "cf1ad93a-8309-40fe-aae0-4eeaf560bf37",
   "metadata": {},
   "source": [
    "## Load Data"
   ]
  },
  {
   "cell_type": "code",
   "execution_count": 2,
   "id": "e3684c98-b7e6-4fd1-9e82-41115a84750a",
   "metadata": {},
   "outputs": [],
   "source": [
    "batch_size = 100\n",
    "\n",
    "# transform images into normalized tensors\n",
    "transform = transforms.Compose([\n",
    "    transforms.ToTensor(),\n",
    "    transforms.Normalize(mean=(0.5,), std=(0.5,))\n",
    "])\n",
    "\n",
    "train_dataset = datasets.MNIST(\n",
    "    \"./\",\n",
    "    download=True,\n",
    "    train=True,\n",
    "    transform=transform,\n",
    ")\n",
    "\n",
    "test_dataset = datasets.MNIST(\n",
    "    \"./\",\n",
    "    download=True,\n",
    "    train=False,\n",
    "    transform=transform,\n",
    ")\n",
    "\n",
    "train_dataloader = DataLoader(\n",
    "    dataset=train_dataset,\n",
    "    batch_size=batch_size,\n",
    "    shuffle=True,\n",
    "    num_workers=1,\n",
    "    pin_memory=True,\n",
    ")\n",
    "\n",
    "test_dataloader = DataLoader(\n",
    "    dataset=test_dataset,\n",
    "    batch_size=batch_size,\n",
    "    shuffle=False,\n",
    "    num_workers=1,\n",
    "    pin_memory=True,\n",
    ")"
   ]
  },
  {
   "cell_type": "markdown",
   "id": "3ca1a798-a93b-4d64-b53a-0635f3ddb336",
   "metadata": {},
   "source": [
    "## Helper Functions"
   ]
  },
  {
   "cell_type": "code",
   "execution_count": 3,
   "id": "51646901-6357-4d99-9126-2cb266ad8a73",
   "metadata": {},
   "outputs": [],
   "source": [
    "def init_weights(shape):\n",
    "    # Kaiming He initialization (a good initialization is important)\n",
    "    # https://arxiv.org/abs/1502.01852\n",
    "    std = np.sqrt(2. / shape[0])\n",
    "    w = torch.randn(size=shape) * std\n",
    "    w.requires_grad = True\n",
    "    return w\n",
    "\n",
    "\n",
    "def rectify(x):\n",
    "    # Rectified Linear Unit (ReLU)\n",
    "    return torch.max(torch.zeros_like(x), x)\n",
    "\n",
    "\n",
    "class RMSprop(optim.Optimizer):\n",
    "    \"\"\"\n",
    "    This is a reduced version of the PyTorch internal RMSprop optimizer\n",
    "    It serves here as an example\n",
    "    \"\"\"\n",
    "    def __init__(self, params, lr=1e-3, alpha=0.5, eps=1e-8):\n",
    "        defaults = dict(lr=lr, alpha=alpha, eps=eps)\n",
    "        super(RMSprop, self).__init__(params, defaults)\n",
    "\n",
    "    def step(self):\n",
    "        for group in self.param_groups:\n",
    "            for p in group['params']:\n",
    "                grad = p.grad.data\n",
    "                state = self.state[p]\n",
    "\n",
    "                # state initialization\n",
    "                if len(state) == 0:\n",
    "                    state['square_avg'] = torch.zeros_like(p.data)\n",
    "\n",
    "                square_avg = state['square_avg']\n",
    "                alpha = group['alpha']\n",
    "\n",
    "                # update running averages\n",
    "                square_avg.mul_(alpha).addcmul_(grad, grad, value=1 - alpha)\n",
    "                avg = square_avg.sqrt().add_(group['eps'])\n",
    "\n",
    "                # gradient update\n",
    "                p.data.addcdiv_(grad, avg, value=-group['lr'])"
   ]
  },
  {
   "cell_type": "markdown",
   "id": "c37b63c9-74db-4c8a-a0aa-551ee31cd866",
   "metadata": {},
   "source": [
    "## Define Neural Network"
   ]
  },
  {
   "cell_type": "code",
   "execution_count": 4,
   "id": "1679cc33-cd39-4c4c-a4d1-2370ddfb4359",
   "metadata": {},
   "outputs": [],
   "source": [
    "# define the neural network\n",
    "def model(x, w_h, w_h2, w_o):\n",
    "    h = rectify(x @ w_h)\n",
    "    h2 = rectify(h @ w_h2)\n",
    "    pre_softmax = h2 @ w_o\n",
    "    return pre_softmax\n",
    "\n",
    "# initialize weights\n",
    "\n",
    "# input shape is (B, 784)\n",
    "w_h = init_weights((784, 625))\n",
    "# hidden layer with 625 neurons\n",
    "w_h2 = init_weights((625, 625))\n",
    "# hidden layer with 625 neurons\n",
    "w_o = init_weights((625, 10))\n",
    "# output shape is (B, 10)\n",
    "\n",
    "optimizer = RMSprop(params=[w_h, w_h2, w_o])"
   ]
  },
  {
   "cell_type": "markdown",
   "id": "2a6fe51f-ca36-47e8-b99d-d949d180cff9",
   "metadata": {},
   "source": [
    "## Train Network"
   ]
  },
  {
   "cell_type": "code",
   "execution_count": 5,
   "id": "0cb02fff-fb66-42bb-96dd-35440bfe9fd5",
   "metadata": {},
   "outputs": [
    {
     "name": "stdout",
     "output_type": "stream",
     "text": [
      "Epoch: 0\n",
      "Mean Train Loss: 3.96e-01\n",
      "Mean Test Loss:  2.11e-01\n",
      "Epoch: 10\n",
      "Mean Train Loss: 1.45e-01\n",
      "Mean Test Loss:  3.24e-01\n",
      "Epoch: 20\n",
      "Mean Train Loss: 9.54e-02\n",
      "Mean Test Loss:  3.25e-01\n",
      "Epoch: 30\n",
      "Mean Train Loss: 8.03e-02\n",
      "Mean Test Loss:  5.36e-01\n",
      "Epoch: 40\n",
      "Mean Train Loss: 5.61e-02\n",
      "Mean Test Loss:  6.64e-01\n",
      "Epoch: 50\n",
      "Mean Train Loss: 3.49e-02\n",
      "Mean Test Loss:  7.79e-01\n",
      "Epoch: 60\n",
      "Mean Train Loss: 2.76e-02\n",
      "Mean Test Loss:  7.56e-01\n",
      "Epoch: 70\n",
      "Mean Train Loss: 2.62e-02\n",
      "Mean Test Loss:  7.82e-01\n",
      "Epoch: 80\n",
      "Mean Train Loss: 3.22e-02\n",
      "Mean Test Loss:  9.62e-01\n",
      "Epoch: 90\n",
      "Mean Train Loss: 1.48e-02\n",
      "Mean Test Loss:  9.40e-01\n",
      "Epoch: 100\n",
      "Mean Train Loss: 8.91e-03\n",
      "Mean Test Loss:  8.88e-01\n"
     ]
    }
   ],
   "source": [
    "n_epochs = 100\n",
    "\n",
    "train_loss = []\n",
    "test_loss = []\n",
    "\n",
    "# put this into a training loop over 100 epochs\n",
    "for epoch in range(n_epochs + 1):\n",
    "    train_loss_this_epoch = []\n",
    "    for idx, batch in enumerate(train_dataloader):\n",
    "        x, y = batch\n",
    "\n",
    "        # our model requires flattened input\n",
    "        x = x.reshape(batch_size, 784)\n",
    "        # feed input through model\n",
    "        noise_py_x = model(x, w_h, w_h2, w_o)\n",
    "\n",
    "        # reset the gradient\n",
    "        optimizer.zero_grad()\n",
    "\n",
    "        # the cross-entropy loss function already contains the softmax\n",
    "        loss = cross_entropy(noise_py_x, y, reduction=\"mean\")\n",
    "\n",
    "        train_loss_this_epoch.append(float(loss))\n",
    "\n",
    "        # compute the gradient\n",
    "        loss.backward()\n",
    "        # update weights\n",
    "        optimizer.step()\n",
    "\n",
    "    train_loss.append(np.mean(train_loss_this_epoch))\n",
    "\n",
    "    # test periodically\n",
    "    if epoch % 10 == 0:\n",
    "        print(f\"Epoch: {epoch}\")\n",
    "        print(f\"Mean Train Loss: {train_loss[-1]:.2e}\")\n",
    "        test_loss_this_epoch = []\n",
    "\n",
    "        # no need to compute gradients for validation\n",
    "        with torch.no_grad():\n",
    "            for idx, batch in enumerate(test_dataloader):\n",
    "                x, y = batch\n",
    "                x = x.reshape(batch_size, 784)\n",
    "                noise_py_x = model(x, w_h, w_h2, w_o)\n",
    "\n",
    "                loss = cross_entropy(noise_py_x, y, reduction=\"mean\")\n",
    "                test_loss_this_epoch.append(float(loss))\n",
    "\n",
    "        test_loss.append(np.mean(test_loss_this_epoch))\n",
    "\n",
    "        print(f\"Mean Test Loss:  {test_loss[-1]:.2e}\")"
   ]
  },
  {
   "cell_type": "markdown",
   "id": "9225faac-d45f-4ac3-9b8a-81bbb4dd645c",
   "metadata": {},
   "source": [
    "## Plot Training Info"
   ]
  },
  {
   "cell_type": "code",
   "execution_count": 6,
   "id": "d8038365-9ebf-458e-a25d-8edfaf9261a9",
   "metadata": {},
   "outputs": [
    {
     "data": {
      "text/plain": [
       "<matplotlib.legend.Legend at 0x7f9699d1bd00>"
      ]
     },
     "execution_count": 6,
     "metadata": {},
     "output_type": "execute_result"
    },
    {
     "data": {
      "image/png": "[encoded data removed]",
      "text/plain": [
       "<Figure size 640x480 with 1 Axes>"
      ]
     },
     "metadata": {},
     "output_type": "display_data"
    }
   ],
   "source": [
    "plt.plot(np.arange(n_epochs + 1), train_loss, label=\"Train\")\n",
    "plt.plot(np.arange(1, n_epochs + 2, 10), test_loss, label=\"Test\")\n",
    "plt.title(\"Train and Test Loss over Training\")\n",
    "plt.xlabel(\"Epoch\")\n",
    "plt.ylabel(\"Loss\")\n",
    "plt.legend()"
   ]
  },
  {
   "cell_type": "markdown",
   "id": "9f7746bf",
   "metadata": {},
   "source": [
    "<div style=\"color: green; font-weight: bold\">Comment</div>\n",
    "The implementation is the same because they just ran the provided code."
   ]
  },
  {
   "cell_type": "markdown",
   "id": "a8b45deb-afb7-4605-a3b8-f89904f202be",
   "metadata": {},
   "source": [
    "# Exercise 2"
   ]
  },
  {
   "cell_type": "markdown",
   "id": "37700c9b-88ad-443c-aa09-532a3629b02e",
   "metadata": {},
   "source": [
    "## Define Dropout and Dropout Model"
   ]
  },
  {
   "cell_type": "code",
   "execution_count": 7,
   "id": "e21f90e9-87f7-4f7a-b504-02d435531cfd",
   "metadata": {},
   "outputs": [],
   "source": [
    "def dropout(X, p_drop=0.5):\n",
    "    mask = torch.tensor(np.random.choice([0, 1], size=X.size()[1:], p=[p_drop, 1-p_drop]))\n",
    "    return X * mask * (1 / (1 - p_drop))"
   ]
  },
  {
   "cell_type": "markdown",
   "id": "add93893",
   "metadata": {},
   "source": [
    "<div style=\"color: green; font-weight: bold\">Comment</div>\n",
    "\n",
    "For the dropout function an if-condition should be implemented to check whether the input $p_{drop}$ lies between 0 and 1 as indicated in the sample solution."
   ]
  },
  {
   "cell_type": "code",
   "execution_count": 8,
   "id": "c0f0f4fe-2327-4b63-ac9b-fc878caa7480",
   "metadata": {},
   "outputs": [],
   "source": [
    "# define the neural network\n",
    "def dropout_model(x, w_h, w_h2, w_o, p_drop_input, p_drop_hidden):\n",
    "    h = rectify(dropout(x, p_drop_input) @ w_h)\n",
    "    h2 = rectify(dropout(h, p_drop_hidden) @ w_h2)\n",
    "    pre_softmax = dropout(h2, p_drop_hidden) @ w_o\n",
    "    return pre_softmax\n",
    "\n",
    "# initialize weights\n",
    "\n",
    "# input shape is (B, 784)\n",
    "w_h = init_weights((784, 625))\n",
    "# hidden layer with 625 neurons\n",
    "w_h2 = init_weights((625, 625))\n",
    "# hidden layer with 625 neurons\n",
    "w_o = init_weights((625, 10))\n",
    "# output shape is (B, 10)\n",
    "\n",
    "optimizer = RMSprop(params=[w_h, w_h2, w_o])"
   ]
  },
  {
   "cell_type": "markdown",
   "id": "68e99266",
   "metadata": {},
   "source": [
    "<div style=\"color: green; font-weight: bold\">Comment</div>\n",
    "\n",
    "The $dropout\\_model()$ is implemented according to the task."
   ]
  },
  {
   "cell_type": "markdown",
   "id": "549debd4-c581-495e-8c4a-9e619720087a",
   "metadata": {},
   "source": [
    "## Train Dropout Model"
   ]
  },
  {
   "cell_type": "code",
   "execution_count": 9,
   "id": "b422b076-07ac-4829-82ee-cecf9ecd6320",
   "metadata": {},
   "outputs": [
    {
     "name": "stdout",
     "output_type": "stream",
     "text": [
      "Epoch: 0\n",
      "Mean Train Loss:                 1.38e+00\n",
      "Mean Train Loss without Dropout: 5.45e-01\n",
      "Mean Test Loss:                  5.26e-01\n",
      "Epoch: 10\n",
      "Mean Train Loss:                 6.97e-01\n",
      "Mean Train Loss without Dropout: 1.68e-01\n",
      "Mean Test Loss:                  1.72e-01\n",
      "Epoch: 20\n",
      "Mean Train Loss:                 7.53e-01\n",
      "Mean Train Loss without Dropout: 1.47e-01\n",
      "Mean Test Loss:                  1.63e-01\n",
      "Epoch: 30\n",
      "Mean Train Loss:                 8.74e-01\n",
      "Mean Train Loss without Dropout: 1.36e-01\n",
      "Mean Test Loss:                  1.67e-01\n",
      "Epoch: 40\n",
      "Mean Train Loss:                 8.89e-01\n",
      "Mean Train Loss without Dropout: 1.49e-01\n",
      "Mean Test Loss:                  2.06e-01\n",
      "Epoch: 50\n",
      "Mean Train Loss:                 8.98e-01\n",
      "Mean Train Loss without Dropout: 1.33e-01\n",
      "Mean Test Loss:                  1.71e-01\n",
      "Epoch: 60\n",
      "Mean Train Loss:                 1.01e+00\n",
      "Mean Train Loss without Dropout: 1.62e-01\n",
      "Mean Test Loss:                  2.04e-01\n",
      "Epoch: 70\n",
      "Mean Train Loss:                 1.01e+00\n",
      "Mean Train Loss without Dropout: 1.27e-01\n",
      "Mean Test Loss:                  1.70e-01\n",
      "Epoch: 80\n",
      "Mean Train Loss:                 1.03e+00\n",
      "Mean Train Loss without Dropout: 1.48e-01\n",
      "Mean Test Loss:                  2.01e-01\n",
      "Epoch: 90\n",
      "Mean Train Loss:                 1.09e+00\n",
      "Mean Train Loss without Dropout: 1.39e-01\n",
      "Mean Test Loss:                  2.20e-01\n",
      "Epoch: 100\n",
      "Mean Train Loss:                 1.06e+00\n",
      "Mean Train Loss without Dropout: 1.56e-01\n",
      "Mean Test Loss:                  2.06e-01\n"
     ]
    }
   ],
   "source": [
    "n_epochs = 100\n",
    "\n",
    "train_loss = []\n",
    "train_loos_without_dropout = []\n",
    "test_loss = []\n",
    "\n",
    "p_drop_input = 0.5\n",
    "p_drop_hidden = 0.3\n",
    "\n",
    "# put this into a training loop over 100 epochs\n",
    "for epoch in range(n_epochs + 1):\n",
    "    train_loss_this_epoch = []\n",
    "    for idx, batch in enumerate(train_dataloader):\n",
    "        x, y = batch\n",
    "\n",
    "        # our model requires flattened input\n",
    "        x = x.reshape(batch_size, 784)\n",
    "        # feed input through model\n",
    "        noise_py_x = dropout_model(x, w_h, w_h2, w_o, p_drop_input, p_drop_hidden)\n",
    "\n",
    "        # reset the gradient\n",
    "        optimizer.zero_grad()\n",
    "\n",
    "        # the cross-entropy loss function already contains the softmax\n",
    "        loss = cross_entropy(noise_py_x, y, reduction=\"mean\")\n",
    "\n",
    "        train_loss_this_epoch.append(float(loss))\n",
    "\n",
    "        # compute the gradient\n",
    "        loss.backward()\n",
    "        # update weights\n",
    "        optimizer.step()\n",
    "\n",
    "    train_loss.append(np.mean(train_loss_this_epoch))\n",
    "\n",
    "    # test periodically\n",
    "    if epoch % 10 == 0:\n",
    "        print(f\"Epoch: {epoch}\")\n",
    "        print(f\"Mean Train Loss:                 {train_loss[-1]:.2e}\")\n",
    "        test_loss_this_epoch = []\n",
    "        train_loss_this_epoch = []\n",
    "        \n",
    "        # no need to compute gradients for validation\n",
    "        with torch.no_grad():\n",
    "            for idx, batch in enumerate(train_dataloader):\n",
    "                x, y = batch\n",
    "                x = x.reshape(batch_size, 784)\n",
    "                noise_py_x = model(x, w_h, w_h2, w_o)\n",
    "\n",
    "                loss = cross_entropy(noise_py_x, y, reduction=\"mean\")\n",
    "                train_loss_this_epoch.append(float(loss))\n",
    "        \n",
    "        # no need to compute gradients for validation\n",
    "        with torch.no_grad():\n",
    "            for idx, batch in enumerate(test_dataloader):\n",
    "                x, y = batch\n",
    "                x = x.reshape(batch_size, 784)\n",
    "                noise_py_x = model(x, w_h, w_h2, w_o)\n",
    "\n",
    "                loss = cross_entropy(noise_py_x, y, reduction=\"mean\")\n",
    "                test_loss_this_epoch.append(float(loss))\n",
    "\n",
    "        test_loss.append(np.mean(test_loss_this_epoch))\n",
    "        train_loos_without_dropout.append(np.mean(train_loss_this_epoch))\n",
    "\n",
    "        print(f\"Mean Train Loss without Dropout: {train_loos_without_dropout[-1]:.2e}\")\n",
    "        print(f\"Mean Test Loss:                  {test_loss[-1]:.2e}\")"
   ]
  },
  {
   "cell_type": "code",
   "execution_count": 10,
   "id": "12f9469c-b66d-4fda-99a2-468d76a8c02f",
   "metadata": {},
   "outputs": [
    {
     "data": {
      "text/plain": [
       "<matplotlib.legend.Legend at 0x7f9699ea8d60>"
      ]
     },
     "execution_count": 10,
     "metadata": {},
     "output_type": "execute_result"
    },
    {
     "data": {
      "image/png": "[encoded data removed]",
      "text/plain": [
       "<Figure size 640x480 with 1 Axes>"
      ]
     },
     "metadata": {},
     "output_type": "display_data"
    }
   ],
   "source": [
    "plt.plot(np.arange(n_epochs + 1), train_loss, label=\"Train\")\n",
    "plt.plot(np.arange(1, n_epochs + 2, 10), train_loos_without_dropout, label=\"Train without Dropout\")\n",
    "plt.plot(np.arange(1, n_epochs + 2, 10), test_loss, label=\"Test\")\n",
    "plt.title(\"Train and Test Loss over Training\")\n",
    "plt.xlabel(\"Epoch\")\n",
    "plt.ylabel(\"Loss\")\n",
    "plt.legend()"
   ]
  },
  {
   "cell_type": "markdown",
   "id": "13ccb080",
   "metadata": {},
   "source": [
    "The dropout method helps with overfitting by removing the ability for the model to hyperfixate on patterns in the input. By removing or 'dropping' certain areas you prevent the model from relying on specific areas/neurons. When testing errors for the test data one should then test on the full input (wit no dropout) to get the complete image.\n",
    "\n",
    "The test error is naturaly going to be worse when we remove information however it has the positive of being more robust as described before."
   ]
  },
  {
   "cell_type": "markdown",
   "id": "0adb71f1",
   "metadata": {},
   "source": [
    "<div style=\"color: green; font-weight: bold\">Comment</div>\n",
    "\n",
    "Except for the definition of the dropout() function, the implementation is the same. With the addition of the calculation of the Train loss without the dropout function similar to the calculation of the Test loss."
   ]
  },
  {
   "cell_type": "markdown",
   "id": "3e4a2e23-621a-4760-93b7-392184aaaa75",
   "metadata": {},
   "source": [
    "# Exercise 3"
   ]
  },
  {
   "cell_type": "markdown",
   "id": "6d2c6b14-840c-4e6d-abc4-d6e3b0c0b1cb",
   "metadata": {},
   "source": [
    "## Define Parametric ReLU"
   ]
  },
  {
   "cell_type": "code",
   "execution_count": 11,
   "id": "9f52e45e-5374-401a-b2c4-4ecdec91dc0c",
   "metadata": {},
   "outputs": [],
   "source": [
    "def PReLU (X,a):\n",
    "    return torch.max(-a * X, X) * torch.sign(X)"
   ]
  },
  {
   "cell_type": "markdown",
   "id": "1e539dcb",
   "metadata": {},
   "source": [
    "<div style=\"color: green; font-weight: bold\">Comment</div>\n",
    "This implementation is also correct, however using torch.where() is likely more efficient since there are fewer operations involved"
   ]
  },
  {
   "cell_type": "markdown",
   "id": "8f62d70f-e9f0-413d-8d62-d5fdaebc159c",
   "metadata": {},
   "source": [
    "## Define Model using PReLU"
   ]
  },
  {
   "cell_type": "code",
   "execution_count": 12,
   "id": "7d71e3e2-4deb-4c84-bbc7-99ec47e3d67d",
   "metadata": {},
   "outputs": [],
   "source": [
    "# define the neural network\n",
    "def prelu_model(x, w_h, w_h2, w_o, a_h, a_h2):\n",
    "    h = PReLU(x @ w_h, a_h)\n",
    "    h2 = PReLU(h @ w_h2, a_h2)\n",
    "    pre_softmax = h2 @ w_o\n",
    "    return pre_softmax\n",
    "\n",
    "# initialize weights\n",
    "\n",
    "# input shape is (B, 784)\n",
    "w_h = init_weights((784, 625))\n",
    "a_h = torch.randn(size=(625, ))\n",
    "a_h.requires_grad = True\n",
    "# hidden layer with 625 neurons\n",
    "w_h2 = init_weights((625, 625))\n",
    "a_h2 = torch.randn(size=(625, ))\n",
    "a_h2.requires_grad = True\n",
    "# hidden layer with 625 neurons\n",
    "w_o = init_weights((625, 10))\n",
    "# output shape is (B, 10)\n",
    "\n",
    "optimizer = RMSprop(params=[w_h, w_h2, w_o, a_h, a_h2])"
   ]
  },
  {
   "cell_type": "markdown",
   "id": "da802644",
   "metadata": {},
   "source": [
    "<div style=\"color: green; font-weight: bold\">Comment</div>\n",
    "\n",
    "The prelu_model() function is missing the dropout. Additionally, instead of creating a tensor filled with zeros like the solution, this code initializes a tensor filled with random values drawn from a standard normal distribution. This approach is also correct. The solution initializes $a$ with 0 and Kaiming He et al. suggests using initial values of 0.25."
   ]
  },
  {
   "cell_type": "markdown",
   "id": "8ed6d35f-640a-43f4-a11f-e6d692939905",
   "metadata": {},
   "source": [
    "## Train PReLU Model"
   ]
  },
  {
   "cell_type": "code",
   "execution_count": 13,
   "id": "8d75c0db-91f1-4b1f-8343-813b22536764",
   "metadata": {},
   "outputs": [
    {
     "name": "stdout",
     "output_type": "stream",
     "text": [
      "Epoch: 0\n",
      "Mean Train Loss: 7.71e-01\n",
      "Mean Test Loss:  2.99e-01\n",
      "Epoch: 10\n",
      "Mean Train Loss: 1.66e-01\n",
      "Mean Test Loss:  2.65e-01\n",
      "Epoch: 20\n",
      "Mean Train Loss: 1.18e-01\n",
      "Mean Test Loss:  4.17e-01\n",
      "Epoch: 30\n",
      "Mean Train Loss: 1.03e-01\n",
      "Mean Test Loss:  4.96e-01\n",
      "Epoch: 40\n",
      "Mean Train Loss: 8.15e-02\n",
      "Mean Test Loss:  5.13e-01\n",
      "Epoch: 50\n",
      "Mean Train Loss: 6.63e-02\n",
      "Mean Test Loss:  7.67e-01\n",
      "Epoch: 60\n",
      "Mean Train Loss: 5.42e-02\n",
      "Mean Test Loss:  6.87e-01\n",
      "Epoch: 70\n",
      "Mean Train Loss: 4.84e-02\n",
      "Mean Test Loss:  6.29e-01\n",
      "Epoch: 80\n",
      "Mean Train Loss: 4.96e-02\n",
      "Mean Test Loss:  8.33e-01\n",
      "Epoch: 90\n",
      "Mean Train Loss: 4.89e-02\n",
      "Mean Test Loss:  8.74e-01\n",
      "Epoch: 100\n",
      "Mean Train Loss: 4.04e-02\n",
      "Mean Test Loss:  7.22e-01\n"
     ]
    }
   ],
   "source": [
    "n_epochs = 100\n",
    "\n",
    "train_loss = []\n",
    "test_loss = []\n",
    "\n",
    "p_drop_input = 0.5\n",
    "p_drop_hidden = 0.3\n",
    "\n",
    "# put this into a training loop over 100 epochs\n",
    "for epoch in range(n_epochs + 1):\n",
    "    train_loss_this_epoch = []\n",
    "    for idx, batch in enumerate(train_dataloader):\n",
    "        x, y = batch\n",
    "\n",
    "        # our model requires flattened input\n",
    "        x = x.reshape(batch_size, 784)\n",
    "        # feed input through model\n",
    "        noise_py_x = prelu_model(x, w_h, w_h2, w_o, a_h, a_h2)\n",
    "\n",
    "        # reset the gradient\n",
    "        optimizer.zero_grad()\n",
    "\n",
    "        # the cross-entropy loss function already contains the softmax\n",
    "        loss = cross_entropy(noise_py_x, y, reduction=\"mean\")\n",
    "\n",
    "        train_loss_this_epoch.append(float(loss))\n",
    "\n",
    "        # compute the gradient\n",
    "        loss.backward()\n",
    "        # update weights\n",
    "        optimizer.step()\n",
    "\n",
    "    train_loss.append(np.mean(train_loss_this_epoch))\n",
    "\n",
    "    # test periodically\n",
    "    if epoch % 10 == 0:\n",
    "        print(f\"Epoch: {epoch}\")\n",
    "        print(f\"Mean Train Loss: {train_loss[-1]:.2e}\")\n",
    "        test_loss_this_epoch = []\n",
    "        \n",
    "        # no need to compute gradients for validation\n",
    "        with torch.no_grad():\n",
    "            for idx, batch in enumerate(test_dataloader):\n",
    "                x, y = batch\n",
    "                x = x.reshape(batch_size, 784)\n",
    "                noise_py_x = prelu_model(x, w_h, w_h2, w_o, a_h, a_h2)\n",
    "\n",
    "                loss = cross_entropy(noise_py_x, y, reduction=\"mean\")\n",
    "                test_loss_this_epoch.append(float(loss))\n",
    "\n",
    "        test_loss.append(np.mean(test_loss_this_epoch))\n",
    "        train_loos_without_dropout.append(np.mean(train_loss_this_epoch))\n",
    "\n",
    "        print(f\"Mean Test Loss:  {test_loss[-1]:.2e}\")"
   ]
  },
  {
   "cell_type": "markdown",
   "id": "1c31898f",
   "metadata": {},
   "source": [
    "<div style=\"color: green; font-weight: bold\">Comment</div>\n",
    "\n",
    "The implementation of the train loop is essentially the same."
   ]
  },
  {
   "cell_type": "markdown",
   "id": "aa2463e6-4f8f-4640-a805-1f853160107d",
   "metadata": {},
   "source": [
    "## Plot Training Info"
   ]
  },
  {
   "cell_type": "code",
   "execution_count": 14,
   "id": "f888cc3c-dd05-4a63-aa19-8440558050f7",
   "metadata": {},
   "outputs": [
    {
     "data": {
      "text/plain": [
       "<matplotlib.legend.Legend at 0x7f9699ef46a0>"
      ]
     },
     "execution_count": 14,
     "metadata": {},
     "output_type": "execute_result"
    },
    {
     "data": {
      "image/png": "[encoded data removed]",
      "text/plain": [
       "<Figure size 640x480 with 1 Axes>"
      ]
     },
     "metadata": {},
     "output_type": "display_data"
    }
   ],
   "source": [
    "plt.plot(np.arange(n_epochs + 1), train_loss, label=\"Train\")\n",
    "plt.plot(np.arange(1, n_epochs + 2, 10), test_loss, label=\"Test\")\n",
    "plt.title(\"Train and Test Loss over Training\")\n",
    "plt.xlabel(\"Epoch\")\n",
    "plt.ylabel(\"Loss\")\n",
    "plt.legend()"
   ]
  },
  {
   "cell_type": "markdown",
   "id": "a3fbb06f",
   "metadata": {},
   "source": [
    "We see that the error rate is better with PReLU compared to ReLU. This is because PReLU allows the network to adapt the slope of the activation function for negative inputs. This should improve learning, especially in networks where the ability to learn more nuanced activation patterns can be beneficial."
   ]
  },
  {
   "cell_type": "markdown",
   "id": "3256f999",
   "metadata": {},
   "source": [
    "<div style=\"color: green; font-weight: bold\">Comment</div>\n",
    "Except for missing the dropout functionality, this solution is correct."
   ]
  },
  {
   "cell_type": "markdown",
   "id": "65fde523-d4fe-4f1a-b56a-6b3274c39b7c",
   "metadata": {},
   "source": [
    "# Exercise 4)"
   ]
  },
  {
   "cell_type": "markdown",
   "id": "434624fa-7ab8-49ee-bb1a-64ba69db027b",
   "metadata": {},
   "source": [
    "## Part 4.1 "
   ]
  },
  {
   "cell_type": "markdown",
   "id": "74d7278d-8684-401d-b3d8-f8633ff70be7",
   "metadata": {},
   "source": [
    "### Define Model"
   ]
  },
  {
   "cell_type": "code",
   "execution_count": 15,
   "id": "c41436a3-79ad-456b-a199-e0c2b740cbab",
   "metadata": {},
   "outputs": [],
   "source": [
    "def convolution_layer(previous_layer, weight_vector, k_x, k_y, p_drop_input):\n",
    "    conv_layer = rectify(conv2d(previous_layer, weight_vector))\n",
    "    subsampling_layer = max_pool2d(conv_layer, (2, 2))\n",
    "    return dropout(subsampling_layer, p_drop_input)\n",
    "\n",
    "# define the neural network\n",
    "def convolution_model(x, c1_weight_vector, c2_weight_vector, c3_weight_vector, p_drop_input, w_h2, w_o):\n",
    "    c1 = convolution_layer(x, c1_weight_vector, 5, 5, p_drop_input)\n",
    "    c2 = convolution_layer(c1, c2_weight_vector, 5, 5, p_drop_input)\n",
    "    c3 = convolution_layer(c2, c3_weight_vector, 3, 3, p_drop_input)\n",
    "\n",
    "    c3 = c3.reshape(-1, 128)\n",
    "    \n",
    "    h2 = rectify(c3 @ w_h2)\n",
    "    pre_softmax = h2 @ w_o\n",
    "    return pre_softmax\n",
    "\n",
    "# initialize weights\n",
    "\n",
    "c1_weight_vector = init_weights((32, 1, 5, 5))\n",
    "c2_weight_vector = init_weights((64, 32, 5, 5))\n",
    "c3_weight_vector = init_weights((128, 64, 3, 3))\n",
    "    \n",
    "# hidden layer with 625 neurons\n",
    "w_h2 = init_weights((128, 625))\n",
    "# hidden layer with 625 neurons\n",
    "w_o = init_weights((625, 10))\n",
    "# output shape is (B, 10)\n",
    "\n",
    "optimizer = RMSprop(params=[c1_weight_vector, c2_weight_vector, c3_weight_vector, w_h2, w_o])"
   ]
  },
  {
   "cell_type": "markdown",
   "id": "9a0e8fbc",
   "metadata": {},
   "source": [
    "<div style=\"color: green; font-weight: bold\">Comment</div>\n",
    "\n",
    "- This solution only uses one $p_{drop}$ value for all layers.\n",
    "- They also pass the Kernel size as parameters to the convolution_layer where they aren't needed since they are included in the \"weights\".\n",
    "- At the beginning of convolution_model they should call dropout on the input according to the task.\n",
    "- They used .reshape() instead of torch.reshape() but accomplish the same result.\n"
   ]
  },
  {
   "cell_type": "markdown",
   "id": "4cc05cfb-39a9-4ad8-a4c7-83b3bfd00598",
   "metadata": {},
   "source": [
    "### Train Model"
   ]
  },
  {
   "cell_type": "code",
   "execution_count": 16,
   "id": "1e9f1df0-e0ef-4236-a054-4745b74da698",
   "metadata": {},
   "outputs": [
    {
     "name": "stdout",
     "output_type": "stream",
     "text": [
      "Epoch: 0\n",
      "Mean Train Loss: 8.12e+00\n",
      "Mean Test Loss:  1.71e+00\n",
      "Epoch: 10\n",
      "Mean Train Loss: 3.35e-01\n",
      "Mean Test Loss:  3.11e-01\n",
      "Epoch: 20\n",
      "Mean Train Loss: 3.72e-01\n",
      "Mean Test Loss:  3.49e-01\n",
      "Epoch: 30\n",
      "Mean Train Loss: 3.99e-01\n",
      "Mean Test Loss:  4.54e-01\n",
      "Epoch: 40\n",
      "Mean Train Loss: 4.29e-01\n",
      "Mean Test Loss:  3.57e-01\n",
      "Epoch: 50\n",
      "Mean Train Loss: 4.83e-01\n",
      "Mean Test Loss:  4.26e-01\n",
      "Epoch: 60\n",
      "Mean Train Loss: 5.10e-01\n",
      "Mean Test Loss:  5.03e-01\n",
      "Epoch: 70\n",
      "Mean Train Loss: 5.51e-01\n",
      "Mean Test Loss:  5.30e-01\n",
      "Epoch: 80\n",
      "Mean Train Loss: 5.80e-01\n",
      "Mean Test Loss:  5.87e-01\n",
      "Epoch: 90\n",
      "Mean Train Loss: 5.97e-01\n",
      "Mean Test Loss:  5.40e-01\n",
      "Epoch: 100\n",
      "Mean Train Loss: 6.63e-01\n",
      "Mean Test Loss:  6.30e-01\n"
     ]
    }
   ],
   "source": [
    "n_epochs = 100\n",
    "\n",
    "p_drop_input = 0.5\n",
    "\n",
    "train_loss = []\n",
    "test_loss = []\n",
    "\n",
    "# put this into a training loop over 100 epochs\n",
    "for epoch in range(n_epochs + 1):\n",
    "    train_loss_this_epoch = []\n",
    "    for idx, batch in enumerate(train_dataloader):\n",
    "        x, y = batch\n",
    "\n",
    "        # our model requires flattened input\n",
    "        x = x.reshape(-1, 1, 28, 28)\n",
    "        # feed input through model\n",
    "        noise_py_x = convolution_model(x, c1_weight_vector, c2_weight_vector, c3_weight_vector, p_drop_input, w_h2, w_o)\n",
    "\n",
    "        # reset the gradient\n",
    "        optimizer.zero_grad()\n",
    "\n",
    "        # the cross-entropy loss function already contains the softmax\n",
    "        loss = cross_entropy(noise_py_x, y, reduction=\"mean\")\n",
    "\n",
    "        train_loss_this_epoch.append(float(loss))\n",
    "\n",
    "        # compute the gradient\n",
    "        loss.backward()\n",
    "        # update weights\n",
    "        optimizer.step()\n",
    "\n",
    "    train_loss.append(np.mean(train_loss_this_epoch))\n",
    "\n",
    "    # test periodically\n",
    "    if epoch % 10 == 0:\n",
    "        print(f\"Epoch: {epoch}\")\n",
    "        print(f\"Mean Train Loss: {train_loss[-1]:.2e}\")\n",
    "        test_loss_this_epoch = []\n",
    "\n",
    "        # no need to compute gradients for validation\n",
    "        with torch.no_grad():\n",
    "            for idx, batch in enumerate(test_dataloader):\n",
    "                x, y = batch\n",
    "                x = x.reshape(-1, 1, 28, 28)\n",
    "                noise_py_x = convolution_model(x, c1_weight_vector, c2_weight_vector, c3_weight_vector, p_drop_input, w_h2, w_o)\n",
    "\n",
    "                loss = cross_entropy(noise_py_x, y, reduction=\"mean\")\n",
    "                test_loss_this_epoch.append(float(loss))\n",
    "\n",
    "        test_loss.append(np.mean(test_loss_this_epoch))\n",
    "\n",
    "        print(f\"Mean Test Loss:  {test_loss[-1]:.2e}\")"
   ]
  },
  {
   "cell_type": "markdown",
   "id": "717757bb",
   "metadata": {},
   "source": [
    "<div style=\"color: green; font-weight: bold\">Comment</div>\n",
    "\n",
    "The implementation of the train loop is correct. There is no plot of an image from the test set with it's convolution with 3 filters and the corresponding filters."
   ]
  },
  {
   "cell_type": "markdown",
   "id": "a6869d9d-5199-4e42-8e6c-aa480c670cc1",
   "metadata": {},
   "source": [
    "### Plot Training Info"
   ]
  },
  {
   "cell_type": "code",
   "execution_count": 17,
   "id": "91c0c3d0-9f5f-47fa-89c0-01b0fd6b8510",
   "metadata": {},
   "outputs": [
    {
     "data": {
      "text/plain": [
       "<matplotlib.legend.Legend at 0x7f9699ef63e0>"
      ]
     },
     "execution_count": 17,
     "metadata": {},
     "output_type": "execute_result"
    },
    {
     "data": {
      "image/png": "[encoded data removed]",
      "text/plain": [
       "<Figure size 640x480 with 1 Axes>"
      ]
     },
     "metadata": {},
     "output_type": "display_data"
    }
   ],
   "source": [
    "plt.plot(np.arange(n_epochs + 1), train_loss, label=\"Train\")\n",
    "plt.plot(np.arange(1, n_epochs + 2, 10), test_loss, label=\"Test\")\n",
    "plt.title(\"Train and Test Loss over Training\")\n",
    "plt.xlabel(\"Epoch\")\n",
    "plt.ylabel(\"Loss\")\n",
    "plt.legend()"
   ]
  },
  {
   "cell_type": "markdown",
   "id": "75565f48-7a2e-40d0-bac6-ec9db0cb8bdc",
   "metadata": {},
   "source": [
    "## Part 4.2\n",
    "We opted to implement the random linear shift, we determine a random shift for each individual batch."
   ]
  },
  {
   "cell_type": "markdown",
   "id": "ade2ae91-6eae-4d0e-a3cd-7fa2637a95d8",
   "metadata": {},
   "source": [
    "### Modified Training"
   ]
  },
  {
   "cell_type": "code",
   "execution_count": 18,
   "id": "b6517480-ba7f-41f8-93ec-f10603408f6a",
   "metadata": {},
   "outputs": [
    {
     "name": "stdout",
     "output_type": "stream",
     "text": [
      "Epoch: 0\n",
      "Mean Train Loss: 4.08e+00\n",
      "Mean Test Loss:  2.43e+00\n",
      "Epoch: 10\n",
      "Mean Train Loss: 2.52e+00\n",
      "Mean Test Loss:  1.81e+00\n",
      "Epoch: 20\n",
      "Mean Train Loss: 2.34e+00\n",
      "Mean Test Loss:  2.12e+00\n",
      "Epoch: 30\n",
      "Mean Train Loss: 2.03e+00\n",
      "Mean Test Loss:  2.40e+00\n",
      "Epoch: 40\n",
      "Mean Train Loss: 1.99e+00\n",
      "Mean Test Loss:  4.43e+00\n",
      "Epoch: 50\n",
      "Mean Train Loss: 2.46e+00\n",
      "Mean Test Loss:  3.23e+00\n",
      "Epoch: 60\n",
      "Mean Train Loss: 2.43e+00\n",
      "Mean Test Loss:  2.34e+00\n",
      "Epoch: 70\n",
      "Mean Train Loss: 3.41e+00\n",
      "Mean Test Loss:  3.80e+00\n",
      "Epoch: 80\n",
      "Mean Train Loss: 2.16e+00\n",
      "Mean Test Loss:  3.53e+00\n",
      "Epoch: 90\n",
      "Mean Train Loss: 2.30e+00\n",
      "Mean Test Loss:  2.53e+00\n",
      "Epoch: 100\n",
      "Mean Train Loss: 3.45e+00\n",
      "Mean Test Loss:  2.59e+00\n"
     ]
    }
   ],
   "source": [
    "n_epochs = 100\n",
    "\n",
    "p_drop_input = 0.5\n",
    "\n",
    "train_loss = []\n",
    "test_loss = []\n",
    "\n",
    "shift_right = np.zeros((28, 28))\n",
    "shift_down = np.zeros((28, 28))\n",
    "\n",
    "for i in range(28):\n",
    "    shift_right[i, (i + 1) % 28] = 1\n",
    "    shift_down[(i + 1) % 28, i] = 1\n",
    "shift_right = torch.tensor(shift_right).float()\n",
    "shift_down = torch.tensor(shift_down).float()\n",
    "\n",
    "# put this into a training loop over 100 epochs\n",
    "for epoch in range(n_epochs + 1):\n",
    "    train_loss_this_epoch = []\n",
    "    for idx, batch in enumerate(train_dataloader):\n",
    "        dx = random.randint(0, 27)\n",
    "        dy = random.randint(0, 27)\n",
    "        shift = shift_right ** dx + shift_down ** dy\n",
    "        \n",
    "        x, y = batch\n",
    "\n",
    "        # our model requires flattened input\n",
    "        x = x.reshape(-1, 1, 28, 28) @ shift\n",
    "        # feed input through model\n",
    "        noise_py_x = convolution_model(x, c1_weight_vector, c2_weight_vector, c3_weight_vector, p_drop_input, w_h2, w_o)\n",
    "\n",
    "        # reset the gradient\n",
    "        optimizer.zero_grad()\n",
    "\n",
    "        # the cross-entropy loss function already contains the softmax\n",
    "        loss = cross_entropy(noise_py_x, y, reduction=\"mean\")\n",
    "\n",
    "        train_loss_this_epoch.append(float(loss))\n",
    "\n",
    "        # compute the gradient\n",
    "        loss.backward()\n",
    "        # update weights\n",
    "        optimizer.step()\n",
    "\n",
    "    train_loss.append(np.mean(train_loss_this_epoch))\n",
    "\n",
    "    # test periodically\n",
    "    if epoch % 10 == 0:\n",
    "        print(f\"Epoch: {epoch}\")\n",
    "        print(f\"Mean Train Loss: {train_loss[-1]:.2e}\")\n",
    "        test_loss_this_epoch = []\n",
    "\n",
    "        # no need to compute gradients for validation\n",
    "        with torch.no_grad():\n",
    "            for idx, batch in enumerate(test_dataloader):\n",
    "                x, y = batch\n",
    "                x = x.reshape(-1, 1, 28, 28)\n",
    "                noise_py_x = convolution_model(x, c1_weight_vector, c2_weight_vector, c3_weight_vector, p_drop_input, w_h2, w_o)\n",
    "\n",
    "                loss = cross_entropy(noise_py_x, y, reduction=\"mean\")\n",
    "                test_loss_this_epoch.append(float(loss))\n",
    "\n",
    "        test_loss.append(np.mean(test_loss_this_epoch))\n",
    "\n",
    "        print(f\"Mean Test Loss:  {test_loss[-1]:.2e}\")"
   ]
  },
  {
   "cell_type": "markdown",
   "id": "33d0f33f",
   "metadata": {},
   "source": [
    "<div style=\"color: green; font-weight: bold\">Comment</div>\n",
    "\n",
    "They effectively apply a random linear shift to each picture which should introduce robustness to the training by forcing the network to learn more general patterns to differentiate the numbers, potentially reducing overfitting."
   ]
  },
  {
   "cell_type": "markdown",
   "id": "1500358a-dda9-4902-8186-c7d68cc6228d",
   "metadata": {},
   "source": [
    "### Plot Training Info"
   ]
  },
  {
   "cell_type": "code",
   "execution_count": 19,
   "id": "7d4714dd-d28b-4472-a199-2c8c6b0c6a6e",
   "metadata": {},
   "outputs": [
    {
     "data": {
      "text/plain": [
       "<matplotlib.legend.Legend at 0x7f969a71cb20>"
      ]
     },
     "execution_count": 19,
     "metadata": {},
     "output_type": "execute_result"
    },
    {
     "data": {
      "image/png": "[encoded data removed]",
      "text/plain": [
       "<Figure size 640x480 with 1 Axes>"
      ]
     },
     "metadata": {},
     "output_type": "display_data"
    }
   ],
   "source": [
    "plt.plot(np.arange(n_epochs + 1), train_loss, label=\"Train\")\n",
    "plt.plot(np.arange(1, n_epochs + 2, 10), test_loss, label=\"Test\")\n",
    "plt.title(\"Train and Test Loss over Training\")\n",
    "plt.xlabel(\"Epoch\")\n",
    "plt.ylabel(\"Loss\")\n",
    "plt.legend()"
   ]
  },
  {
   "cell_type": "markdown",
   "id": "6a1c057a-cafb-4042-9e49-c65bc7467815",
   "metadata": {},
   "source": [
    "### Network Sketch\n",
    "![](ex4-sketch.png)"
   ]
  },
  {
   "cell_type": "markdown",
   "id": "d85c8f25",
   "metadata": {},
   "source": [
    "<div style=\"color: green; font-weight: bold\">Comment</div>\n",
    "\n",
    "Their sketch effectively visualizes the concept of the network and their outputsizes and channelsizes were all correct."
   ]
  },
  {
   "cell_type": "markdown",
   "id": "08857a8a",
   "metadata": {},
   "source": [
    "When comparing the error rates we see that the mean test loss and training loss are worse than wihout the linear shifts. In theory the linear shift will reduce overfitting as it will force the network to focus on the general iamge rather than a specific part. It is natural that the test loss is worse. By reducing overfitting it will also make the fit worse (It's a balancing act). Maybe with an even larger data-set we could see the improvements on test-loss."
   ]
  }
 ],
 "metadata": {
  "kernelspec": {
   "display_name": "Python 3 (ipykernel)",
   "language": "python",
   "name": "python3"
  },
  "language_info": {
   "codemirror_mode": {
    "name": "ipython",
    "version": 3
   },
   "file_extension": ".py",
   "mimetype": "text/x-python",
   "name": "python",
   "nbconvert_exporter": "python",
   "pygments_lexer": "ipython3",
   "version": "3.11.7"
  }
 },
 "nbformat": 4,
 "nbformat_minor": 5
}
