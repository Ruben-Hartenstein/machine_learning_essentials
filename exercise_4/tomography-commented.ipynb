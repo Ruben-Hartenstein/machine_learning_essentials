{
 "cells": [
  {
   "cell_type": "markdown",
   "metadata": {},
   "source": [
    "<h1>1 Constructing the matrix X</h1>"
   ]
  },
  {
   "cell_type": "code",
   "execution_count": null,
   "metadata": {},
   "outputs": [],
   "source": [
    "import numpy as np\n",
    "import matplotlib.pyplot as plt\n",
    "from scipy.sparse import coo_matrix\n",
    "from scipy.sparse.linalg import lsqr\n",
    "from scipy.sparse import csc_matrix"
   ]
  },
  {
   "cell_type": "code",
   "execution_count": null,
   "metadata": {},
   "outputs": [],
   "source": [
    "# Load the provided data\n",
    "alphas_77 = np.load('hs_tomography/alphas_77.npy')\n",
    "y_77 = np.load('hs_tomography/y_77.npy')\n",
    "X_77 = np.load('hs_tomography/X_77.npy', allow_pickle=True)\n",
    "X_example = np.load('hs_tomography/X_example.npy', allow_pickle=True)\n",
    "\n",
    "alphas_195 = np.load('hs_tomography/alphas_195.npy')\n",
    "y_195 = np.load('hs_tomography/y_195.npy')"
   ]
  },
  {
   "cell_type": "code",
   "execution_count": null,
   "metadata": {},
   "outputs": [],
   "source": [
    "def round_up_to_odd(value):\n",
    "    return int(np.ceil(value) // 2 * 2 + 1)\n",
    "\n",
    "def construct_X(M, alphas, Np=None):\n",
    "\n",
    "    if Np is None:\n",
    "        Np = round_up_to_odd(np.sqrt(2) * M)\n",
    "\n",
    "    # Convert angles from degrees to radians\n",
    "    rads = np.deg2rad(alphas)\n",
    "    No = len(alphas)\n",
    "    \n",
    "    # Generate a meshgrid for pixel coordinates\n",
    "    c = np.mgrid[-M/2+0.5:M/2,-M/2+0.5:M/2]\n",
    "    c[:] = -c[0],c[1] # Pixel numbering starts from top-left corner\n",
    "    c = np.reshape(c,(2,M**2)) # Flatten the grid to get x and y coordinates of each pixel\n",
    "    C = np.zeros((No,2,M**2))\n",
    "    C[:] = c\n",
    "\n",
    "    # Normal vector and distance from the center of the sensor to the 0th sensor position\n",
    "    n = np.array([np.sin(rads), np.cos(rads)])\n",
    "    s0 = np.sqrt(2) * (M/2 - 0.5)\n",
    "    \n",
    "    # Compute the positions of beams on the sensor for various angles\n",
    "    p = np.multiply(C[:, 0, :].T, n[0]).T + np.multiply(C[:, 1, :].T, n[1]).T + s0\n",
    "    \n",
    "    # Sensor step size\n",
    "    sensor_step = 2 * s0 / (Np - 1)\n",
    "    \n",
    "    # Normalize positions into sensor units\n",
    "    positions = p / sensor_step\n",
    "    \n",
    "    # Determine indices of sensors hit by the beams\n",
    "    left_indices = np.floor(positions)\n",
    "    right_indices = left_indices + 1\n",
    "    \n",
    "    # Concatenate indices\n",
    "    indices = np.concatenate((left_indices, right_indices), axis=1)\n",
    "    \n",
    "    # Adjust indices based on angle offsets\n",
    "    for i in range(No):\n",
    "        indices[i, :] = indices[i, :] + Np * i\n",
    "    \n",
    "    # Calculate weights for each pixel\n",
    "    right_weight = positions - np.floor(positions)\n",
    "    left_weight = 1 - right_weight\n",
    "    weights = np.concatenate((left_weight, right_weight), axis=1).flatten()\n",
    "    \n",
    "    # Filter indices by weight\n",
    "    i_indices = indices.flatten()[weights != 0]\n",
    "    \n",
    "    # Define j_indices based on structure\n",
    "    j_indices = np.zeros((No, 2, M**2))\n",
    "    j_indices[:, :] = np.arange(M**2)\n",
    "    j_indices = j_indices.flatten()[weights != 0]\n",
    "    \n",
    "    # Filter weights\n",
    "    weights = weights[weights != 0]\n",
    "    \n",
    "    # Create sparse matrix\n",
    "    X_sparse = coo_matrix((weights, (i_indices, j_indices)), shape=(Np * No, M**2))\n",
    "    return X_sparse\n"
   ]
  },
  {
   "cell_type": "code",
   "execution_count": null,
   "metadata": {},
   "outputs": [],
   "source": [
    "X = construct_X(M=10, alphas=[-33, 1, 42], Np=15)\n",
    "dense_X = X.toarray()\n",
    "\n",
    "plt.imshow(dense_X, aspect='auto')\n",
    "plt.title(\"Visualization of X\")\n",
    "plt.colorbar(label='Weight')\n",
    "plt.show()\n",
    "\n",
    "plt.imshow(X_example, aspect='auto')\n",
    "plt.title(\"Visualization of example X\")\n",
    "\n",
    "plt.colorbar(label='Weight')\n",
    "plt.show()"
   ]
  },
  {
   "cell_type": "markdown",
   "metadata": {},
   "source": [
    "The constructed X looks pretty similar to the example X."
   ]
  },
  {
   "cell_type": "markdown",
   "metadata": {},
   "source": [
    "<div style=\"color: green; font-weight: bold\">Comment</div>\n",
    "\n",
    "There are some differences in the implementations. Our implementation seems to only approximate the exact solution but still manages to achieve an acceptable result."
   ]
  },
  {
   "cell_type": "markdown",
   "metadata": {},
   "source": [
    "<h1>2 Recovering the image</h1>"
   ]
  },
  {
   "cell_type": "code",
   "execution_count": null,
   "metadata": {},
   "outputs": [],
   "source": [
    "M = 77\n",
    "Np = 109\n",
    "X = construct_X(M, alphas_77, Np)\n",
    "# Convert to CSC format for efficient computation\n",
    "X_sparse = X.tocsc()\n",
    "beta, _, _, _, _, _, _, _, _, _ = lsqr(X_sparse, y_77, atol=1e-03, btol=1e-03)\n",
    "\n",
    "# Reshape beta into a 2D image\n",
    "beta_image = beta.reshape(M, M)\n",
    "\n",
    "# Display the reconstructed tomogram\n",
    "plt.figure(figsize=(8, 6))\n",
    "plt.imshow(beta_image)\n",
    "plt.title(\"Reconstructed Tomogram (77 pixels)\")\n",
    "plt.colorbar(label='X-ray Absorption Coefficient')\n",
    "plt.xlabel(\"Pixels\")\n",
    "plt.ylabel(\"Pixels\")\n",
    "plt.show()\n",
    "\n",
    "print(\"Amount of non-zero elements in X:\", X.nnz)\n",
    "print(\"Sparsity:\", (np.prod(X.shape)-X.nnz)/np.prod(X.shape))"
   ]
  },
  {
   "cell_type": "markdown",
   "metadata": {},
   "source": [
    "<div style=\"color: green; font-weight: bold\">Comment</div>\n",
    "\n",
    "The solution is essentially the same. We used $10^{-3}$ as stopping tolerance because different values didn't give us a nice image which might be due to the differences in our construct_X() function."
   ]
  },
  {
   "cell_type": "code",
   "execution_count": null,
   "metadata": {},
   "outputs": [],
   "source": [
    "M = 77\n",
    "Np = 109\n",
    "# Convert to CSC format for efficient computation\n",
    "X_sparse = csc_matrix(X_77.all())\n",
    "beta, _, _, _, _, _, _, _, _, _ = lsqr(X_sparse, y_77, atol=1e-08, btol=1e-08)\n",
    "\n",
    "# Reshape beta to 2D image format\n",
    "beta_image = beta.reshape(M, M)\n",
    "\n",
    "# Display the reconstructed tomogram\n",
    "plt.figure(figsize=(8, 6))\n",
    "plt.imshow(beta_image)\n",
    "plt.title(\"Reconstructed Tomogram from example X (77 pixels)\")\n",
    "plt.colorbar(label='X-ray Absorption Coefficient')\n",
    "plt.xlabel(\"Pixels\")\n",
    "plt.ylabel(\"Pixels\")\n",
    "plt.show()"
   ]
  },
  {
   "cell_type": "markdown",
   "metadata": {},
   "source": [
    "The images look pretty similar."
   ]
  },
  {
   "cell_type": "markdown",
   "metadata": {},
   "source": [
    "<div style=\"color: green; font-weight: bold\">Comment</div>\n",
    "We did the same for the example X"
   ]
  },
  {
   "cell_type": "code",
   "execution_count": null,
   "metadata": {},
   "outputs": [],
   "source": [
    "M = 195\n",
    "Np = 275\n",
    "X = construct_X(M, alphas_195, Np)\n",
    "# Convert to CSC format for efficient computation\n",
    "X_sparse = X.tocsc()\n",
    "beta, _, _, _, _, _, _, _, _, _ = lsqr(X_sparse, y_195, atol=1e-04, btol=1e-04)\n",
    "\n",
    "# Reshape beta to 2D image format\n",
    "beta_image = beta.reshape(M, M)\n",
    "\n",
    "# Display the reconstructed tomogram\n",
    "plt.figure(figsize=(8, 6))\n",
    "plt.imshow(beta_image)\n",
    "plt.title(\"Reconstructed Tomogram (195 pixels)\")\n",
    "plt.colorbar(label='X-ray Absorption Coefficient')\n",
    "plt.xlabel(\"Pixels\")\n",
    "plt.ylabel(\"Pixels\")\n",
    "plt.show()\n",
    "\n",
    "print(\"Amount of non-zero elements in X:\", X.nnz)\n",
    "print(\"Sparsity:\", (np.prod(X.shape)-X.nnz)/np.prod(X.shape))"
   ]
  },
  {
   "cell_type": "markdown",
   "metadata": {},
   "source": [
    "The patient's headaches appear to be caused by a crayon lodged in his brain. Surgical removal is advised. For long-term success, we recommend Homer refrain from inserting objects into his nose."
   ]
  },
  {
   "cell_type": "markdown",
   "metadata": {},
   "source": [
    "<div style=\"color: green; font-weight: bold\">Comment</div>\n",
    "The solutions are essentially the same, we didn't plot the sinogram because it was not asked for."
   ]
  },
  {
   "cell_type": "markdown",
   "metadata": {},
   "source": [
    "<h1>3 Minimizing the radiation dose</h1>"
   ]
  },
  {
   "cell_type": "code",
   "execution_count": null,
   "metadata": {},
   "outputs": [],
   "source": [
    "M = 195\n",
    "Np = 275\n",
    "\n",
    "# Define the desired number of angles\n",
    "num_angles = [15, 30, 45, 60, 75, 90, 105]\n",
    "for angles in num_angles:\n",
    "    # Select evenly spaced indices from alphas_195\n",
    "    idx = np.round(np.linspace(0, len(alphas_195) - 1, angles)).astype(int)\n",
    "    alphas_selected = alphas_195[idx]\n",
    "\n",
    "    # Select from y values accordingly\n",
    "    y_selected = np.concatenate([y_195[i * Np: (i + 1) * Np] for i in idx])\n",
    "    \n",
    "    # Construct the X matrix\n",
    "    X = construct_X(M, alphas_selected, Np)\n",
    "\n",
    "    # Convert X to CSC format for efficient computation\n",
    "    X_csc = X.tocsc()\n",
    "    beta, _, _, _, _, _, _, _, _, _ = lsqr(X_csc, y_selected, atol=1e-04, btol=1e-04)\n",
    "\n",
    "    # Reshape beta to 2D image format\n",
    "    beta_image = beta.reshape(M, M)\n",
    "\n",
    "    # Plot the reconstructed tomogram as a 2D image\n",
    "    plt.imshow(beta_image)\n",
    "    plt.title(f\"{angles} angles\")\n",
    "    plt.colorbar(label='X-ray Absorption Coefficient')\n",
    "    plt.xlabel(\"Pixels\")\n",
    "    plt.ylabel(\"Pixels\")\n",
    "    plt.show()"
   ]
  },
  {
   "cell_type": "markdown",
   "metadata": {},
   "source": [
    "With less than 60 angles we are able to recognize a rough outline of the crayon (it is easier if you know it is there). From 60 angles we are able to recognize the chalk definitively."
   ]
  },
  {
   "cell_type": "markdown",
   "metadata": {},
   "source": [
    "<div style=\"color: green; font-weight: bold\">Comment</div>\n",
    "The implementations are essentially the same. We chose different angles and didn't interpolate. The angles in the given solution are better suited to show how the angles provide information."
   ]
  }
 ],
 "metadata": {
  "kernelspec": {
   "display_name": "venv",
   "language": "python",
   "name": "python3"
  },
  "language_info": {
   "codemirror_mode": {
    "name": "ipython",
    "version": 3
   },
   "file_extension": ".py",
   "mimetype": "text/x-python",
   "name": "python",
   "nbconvert_exporter": "python",
   "pygments_lexer": "ipython3",
   "version": "3.11.9"
  }
 },
 "nbformat": 4,
 "nbformat_minor": 2
}
