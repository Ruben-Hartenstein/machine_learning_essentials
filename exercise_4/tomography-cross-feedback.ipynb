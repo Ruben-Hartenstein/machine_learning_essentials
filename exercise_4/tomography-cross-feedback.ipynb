{
 "cells": [
  {
   "cell_type": "markdown",
   "metadata": {
    "id": "fFqaN4ReSMC4"
   },
   "source": [
    "# Exercise 4  \n",
    "Group Members: Xiaoyu Ji, Mengtong Guo, Yingchan Chu  \n",
    "  \n",
    "### 1 Constructing the matrix X"
   ]
  },
  {
   "cell_type": "code",
   "execution_count": null,
   "metadata": {},
   "outputs": [],
   "source": [
    "import numpy as np\n",
    "import matplotlib.pyplot as plt\n",
    "%matplotlib inline\n",
    "from scipy.sparse import dok_matrix, coo_matrix\n",
    "from scipy.sparse.linalg import lsqr"
   ]
  },
  {
   "cell_type": "code",
   "execution_count": null,
   "metadata": {
    "id": "QMS3zj6-aNOA"
   },
   "outputs": [],
   "source": [
    "def compute_sensor_size(M, Np=None):\n",
    "    if Np is None:\n",
    "        Np = int(np.ceil(np.sqrt(2) * M))\n",
    "        Np += 1 if Np % 2 == 0 else 0\n",
    "    return Np"
   ]
  },
  {
   "cell_type": "code",
   "execution_count": null,
   "metadata": {
    "id": "l0QvDZi0SqFp"
   },
   "outputs": [],
   "source": [
    "def construct_X(M, alphas, Np=None):\n",
    "    Np = compute_sensor_size(M, Np)\n",
    "    D = M * M\n",
    "    No = len(alphas)\n",
    "    # Create coordinate matrix for all pixels\n",
    "    x, y = np.meshgrid(np.arange(M) - (M-1)/2, np.arange(M) - (M-1)/2)\n",
    "    grid = np.vstack((x.flatten(), y.flatten()))\n",
    "\n",
    "    i_indices = []\n",
    "    j_indices = []\n",
    "    weights = []\n",
    "\n",
    "    # Process each projection angle\n",
    "    for k, alpha in enumerate(alphas):\n",
    "        cos_alpha, sin_alpha = np.cos(np.radians(alpha)), -np.sin(np.radians(alpha))\n",
    "        p_vector = np.array([cos_alpha, sin_alpha])\n",
    "\n",
    "        # Project coordinates onto the sensor line\n",
    "        p = np.dot(p_vector, grid) + Np // 2\n",
    "\n",
    "        # Compute the indices on the sensor\n",
    "        i_floor = np.floor(p).astype(int)\n",
    "        i_ceil = np.ceil(p).astype(int)\n",
    "\n",
    "        # Ensure the indices are within the sensor array\n",
    "        clip = (i_floor >= 0) & (i_ceil < Np)\n",
    "\n",
    "        # Calculate the contributions to the nearest bins\n",
    "        weight_floor = (i_ceil - p)[clip]\n",
    "        weight_ceil = (p - i_floor)[clip]\n",
    "\n",
    "        # Store indices and weights\n",
    "        i_indices.extend([i_floor[clip] + k * Np, i_ceil[clip] + k * Np])\n",
    "        j_indices.extend([np.arange(D)[clip], np.arange(D)[clip]])\n",
    "        weights.extend([weight_floor, weight_ceil])\n",
    "\n",
    "    # Create the sparse matrix X\n",
    "    i = np.concatenate(i_indices)\n",
    "    j = np.concatenate(j_indices)\n",
    "    w = np.concatenate(weights)\n",
    "    X = coo_matrix((w, (i, j)), shape=(No * Np, D), dtype=np.float32)\n",
    "\n",
    "    return X"
   ]
  },
  {
   "cell_type": "code",
   "execution_count": null,
   "metadata": {
    "colab": {
     "base_uri": "https://localhost:8080/",
     "height": 75
    },
    "id": "AIOCQJXRSvwf",
    "outputId": "7a82a38d-00be-491b-9379-3329552b8ac9"
   },
   "outputs": [],
   "source": [
    "X = np.load('hs_tomography/X_example.npy')"
   ]
  },
  {
   "cell_type": "code",
   "execution_count": null,
   "metadata": {
    "colab": {
     "base_uri": "https://localhost:8080/",
     "height": 457
    },
    "id": "6xwMCr8lX_2u",
    "outputId": "8acbe153-67f3-42f5-c917-cb399ac84b9b"
   },
   "outputs": [],
   "source": [
    "# Construct X matrix and convert to dense format\n",
    "X = construct_X(10, [-33, 1, 42]).todense()\n",
    "\n",
    "# Set the graphics size and display the image\n",
    "fig = plt.figure(figsize=(10, 4.5))\n",
    "plt.imshow(X, interpolation='nearest')\n",
    "plt.gray()\n",
    "plt.axis('off')\n",
    "plt.tight_layout()\n",
    "plt.show()\n"
   ]
  },
  {
   "cell_type": "markdown",
   "metadata": {},
   "source": [
    "<div style=\"color: green; font-weight: bold\">Comment</div>\n",
    "The function construct_X() is pretty similar to the provided solution but it looks like it produces some kind of X shaped artifact in the computed tomograms. This is due to some wrong calculations of their indices. They are using np.ceil(i) to calculate their second index but for integer numbers np.floor(i) == np.ceil(i). If they would replace i_ceil = np.ceil(p).astype(int) with i_ceil = i_floor + 1, their code works fine."
   ]
  },
  {
   "cell_type": "markdown",
   "metadata": {},
   "source": [
    "### 2 Recovering the image  \n",
    "  \n",
    "Firstly, we need to use the smaller version of the data for debugging the code."
   ]
  },
  {
   "cell_type": "code",
   "execution_count": null,
   "metadata": {},
   "outputs": [],
   "source": [
    "y_small = np.load('hs_tomography/y_77.npy')\n",
    "alphas_small = np.load('hs_tomography/alphas_77.npy')\n",
    "\n",
    "X_small = construct_X(77, alphas_small, 109).tocsc()\n",
    "\n",
    "# Print shape and sparsity information\n",
    "shape = f\"Shape: {X_small.shape[0]} x {X_small.shape[1]}\"\n",
    "sparsity = f\"Sparsity: {round(100 * (1 - X_small.nnz / np.prod(X_small.shape)), 2)} %\"\n",
    "\n",
    "print(f\"{shape}\\n{sparsity}\\n\")"
   ]
  },
  {
   "cell_type": "markdown",
   "metadata": {},
   "source": [
    "Now we need to use `scipy.sparse.linalg.lsqr()` to obtain the least-squares solution to the problem."
   ]
  },
  {
   "cell_type": "code",
   "execution_count": null,
   "metadata": {},
   "outputs": [],
   "source": [
    "beta_small = lsqr(X_small, y_small, atol=1e-5, btol=1e-5)[0].reshape(77, 77)\n",
    "\n",
    "fig, ax = plt.subplots(figsize=(4, 4))\n",
    "cax = ax.imshow(beta_small, vmin=0, vmax=255, interpolation='nearest', cmap='gray')\n",
    "ax.axis('off')\n",
    "fig.tight_layout()\n",
    "\n",
    "plt.show()"
   ]
  },
  {
   "cell_type": "markdown",
   "metadata": {},
   "source": [
    "Now we implement it from a larger version of the data."
   ]
  },
  {
   "cell_type": "code",
   "execution_count": null,
   "metadata": {},
   "outputs": [],
   "source": [
    "y_large = np.load('hs_tomography/y_195.npy')\n",
    "alphas_large = np.load('hs_tomography/alphas_195.npy')\n",
    "X_large = construct_X(195, alphas_large, 275).tocsc()\n",
    "\n",
    "# Print shape and sparsity information\n",
    "shape = f\"Shape: {X_large.shape[0]} x {X_large.shape[1]}\"\n",
    "sparsity = f\"Sparsity: {round(100 * (1 - X_large.nnz / np.prod(X_large.shape)), 2)} %\"\n",
    "\n",
    "print(f\"{shape}\\n{sparsity}\\n\")"
   ]
  },
  {
   "cell_type": "code",
   "execution_count": null,
   "metadata": {},
   "outputs": [],
   "source": [
    "beta_large = lsqr(X_large, y_large, atol=1e-5, btol=1e-5)[0].reshape(195, 195)\n",
    "\n",
    "fig, ax = plt.subplots(figsize=(4, 4))\n",
    "cax = ax.imshow(beta_large, vmin=0, vmax=255, interpolation='nearest', cmap='gray')\n",
    "ax.axis('off')\n",
    "fig.tight_layout()\n",
    "\n",
    "plt.show()"
   ]
  },
  {
   "cell_type": "markdown",
   "metadata": {},
   "source": [
    "We can see that the image is getting much clearer now, and we can also see something like a small stick in H.S.'s brain. The treatment now should be removing the stick by surgery."
   ]
  },
  {
   "cell_type": "markdown",
   "metadata": {},
   "source": [
    "<div style=\"color: green; font-weight: bold\">Comment</div>\n",
    "Both solutions are essentially the same. "
   ]
  },
  {
   "cell_type": "markdown",
   "metadata": {},
   "source": [
    "### 3 Minimizing the radiation dose"
   ]
  },
  {
   "cell_type": "code",
   "execution_count": null,
   "metadata": {
    "scrolled": true
   },
   "outputs": [],
   "source": [
    "Np = 275\n",
    "y = np.load('hs_tomography/y_195.npy')\n",
    "alphas = np.load('hs_tomography/alphas_195.npy')\n",
    "                 \n",
    "\n",
    "projection_angles = [4, 8, 16, 32, 48, 64]\n",
    "fig, axes = plt.subplots(2, 3)\n",
    "                 \n",
    "for n, num_angles in enumerate(projection_angles):\n",
    "    indices = [int(np.ceil(len(alphas) * p / num_angles)) for p in range(num_angles)]\n",
    "    selected_alphas = alphas[indices]  \n",
    "    selected_responses = []  \n",
    "\n",
    "\n",
    "    for i in indices:\n",
    "        selected_responses.extend(y[i*Np : (i+1)*Np])\n",
    "\n",
    "\n",
    "    X = construct_X(195, selected_alphas, Np).tocsc()\n",
    "    beta = lsqr(X, np.array(selected_responses), atol=1e-5, btol=1e-5)[0].reshape(195, 195)\n",
    "\n",
    "\n",
    "    ax = axes.flat[n]\n",
    "    ax.imshow(beta, vmin=0, vmax=255, interpolation='nearest')\n",
    "    ax.set_title(f'{num_angles} projections')\n",
    "    ax.axis('off')\n",
    "\n",
    "plt.tight_layout()\n",
    "plt.show()"
   ]
  },
  {
   "cell_type": "markdown",
   "metadata": {},
   "source": [
    "For 32, the details are barely visible but it’s sufficient to suggest there's something abnormal. The 48 projections with more projections, the image clarity improves, making it easier to identify and examine the anomaly in more detail.And the image of 64 projections, clarity is significantly enhanced."
   ]
  },
  {
   "cell_type": "markdown",
   "metadata": {},
   "source": [
    "<div style=\"color: green; font-weight: bold\">Comment</div>\n",
    "Both solutions is exactly the same."
   ]
  }
 ],
 "metadata": {
  "colab": {
   "provenance": []
  },
  "kernelspec": {
   "display_name": "Python 3 (ipykernel)",
   "language": "python",
   "name": "python3"
  },
  "language_info": {
   "codemirror_mode": {
    "name": "ipython",
    "version": 3
   },
   "file_extension": ".py",
   "mimetype": "text/x-python",
   "name": "python",
   "nbconvert_exporter": "python",
   "pygments_lexer": "ipython3",
   "version": "3.11.9"
  }
 },
 "nbformat": 4,
 "nbformat_minor": 1
}
